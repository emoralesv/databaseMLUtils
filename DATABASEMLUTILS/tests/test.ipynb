{
  "cells": [
    {
      "cell_type": "markdown",
      "metadata": {},
      "source": [
        "# Visualizar transformadas\n",
        "Este notebook carga una imagen, aplica todas las transformaciones registradas y muestra sus vistas."
      ]
    },
    {
      "cell_type": "code",
      "execution_count": null,
      "metadata": {},
      "outputs": [],
      "source": [
        "# Preparar paths de import para desarrollo (sin instalar el paquete)\n",
        "import sys, os\n",
        "from pathlib import Path\n",
        "for rel in ['../src', 'DATABASEMLUTILS/src']:\n",
        "    p = Path(rel).resolve()\n",
        "    if p.exists() and str(p) not in sys.path:\n",
        "        sys.path.append(str(p))\n",
        "print('PYTHONPATH added:', [p for p in sys.path if p.endswith('/src') or p.endswith('\\\\src')])"
      ]
    },
    {
      "cell_type": "code",
      "execution_count": null,
      "metadata": {},
      "outputs": [],
      "source": [
        "# Imports\n",
        "from pathlib import Path\n",
        "from PIL import Image\n",
        "import matplotlib.pyplot as plt\n",
        "from databaseMLUtils.transforms import get_transforms_registry\n",
        "\n",
        "def find_any_image():\n",
        "    # Busca una imagen .jpg dentro de 'databases' o en el repo\n",
        "    roots = [Path.cwd(), Path.cwd() / '..']\n",
        "    for root in roots:\n",
        "        for base in [root / 'databases', root]:\n",
        "            if not base.exists():\n",
        "                continue\n",
        "            for p in base.rglob('*.jpg'):\n",
        "                return p\n",
        "    return None\n",
        "\n",
        "IMG_PATH = find_any_image()\n",
        "if IMG_PATH is None:\n",
        "    # crea una imagen sintética si no hay dataset presente\n",
        "    import numpy as np\n",
        "    arr = (np.random.rand(256, 256, 3) * 255).astype('uint8')\n",
        "    img = Image.fromarray(arr)\n",
        "    display_path = '<synthetic>'\n",
        "else:\n",
        "    img = Image.open(IMG_PATH).convert('RGB')\n",
        "    display_path = str(IMG_PATH)\n",
        "\n",
        "registry = get_transforms_registry()\n",
        "transform_ids = sorted(registry.keys())\n",
        "len(transform_ids), transform_ids[:5]"
      ]
    },
    {
      "cell_type": "code",
      "execution_count": null,
      "metadata": {},
      "outputs": [],
      "source": [
        "# Mostrar original + transformaciones\n",
        "n = len(transform_ids) + 1\n",
        "cols = min(4, n)\n",
        "rows = (n + cols - 1) // cols\n",
        "fig, axes = plt.subplots(rows, cols, figsize=(4 * cols, 4 * rows))\n",
        "axes = axes.flatten() if hasattr(axes, 'flatten') else [axes]\n",
        "axes[0].imshow(img)\n",
        "axes[0].set_title(f'Original\\n{display_path}')\n",
        "axes[0].axis('off')\n",
        "for i, t_id in enumerate(transform_ids, start=1):\n",
        "    t = registry[t_id]\n",
        "    view = t(img)\n",
        "    axes[i].imshow(view, cmap='gray')\n",
        "    axes[i].set_title(t_id)\n",
        "    axes[i].axis('off')\n",
        "for j in range(n, len(axes)):\n",
        "    axes[j].axis('off')\n",
        "fig.tight_layout()\n",
        "plt.show()"
      ]
    }
  ],
  "metadata": {
    "kernelspec": {
      "display_name": "Python 3",
      "language": "python",
      "name": "python3"
    },
    "language_info": {
      "name": "python",
      "version": "3.x"
    }
  },
  "nbformat": 4,
  "nbformat_minor": 5
}

